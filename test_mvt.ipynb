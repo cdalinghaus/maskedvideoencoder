{
 "cells": [
  {
   "cell_type": "code",
   "execution_count": 1,
   "id": "01720e34-eb55-49a1-831b-3997dc483d9f",
   "metadata": {},
   "outputs": [
    {
     "name": "stderr",
     "output_type": "stream",
     "text": [
      "/home/constantin/miniconda3/lib/python3.11/site-packages/tqdm/auto.py:21: TqdmWarning: IProgress not found. Please update jupyter and ipywidgets. See https://ipywidgets.readthedocs.io/en/stable/user_install.html\n",
      "  from .autonotebook import tqdm as notebook_tqdm\n",
      "/home/constantin/miniconda3/lib/python3.11/site-packages/torch/nn/modules/transformer.py:282: UserWarning: enable_nested_tensor is True, but self.use_nested_tensor is False because encoder_layer.self_attn.batch_first was not True(use batch_first for better inference performance)\n",
      "  warnings.warn(f\"enable_nested_tensor is True, but self.use_nested_tensor is False because {why_not_sparsity_fast_path}\")\n"
     ]
    }
   ],
   "source": [
    "from helpers import plotframes, reconstruct_from_patches, plotframes_tensorboard\n",
    "from mvt import MaskedVideoTransformer\n",
    "from gameds import GameDS\n",
    "import torch\n",
    "from torch.utils.tensorboard import SummaryWriter\n",
    "from datetime import datetime"
   ]
  },
  {
   "cell_type": "code",
   "execution_count": 2,
   "id": "2c27012b-40d6-4997-a06c-af6ff8d81a7b",
   "metadata": {},
   "outputs": [],
   "source": [
    "device = \"cuda\""
   ]
  },
  {
   "cell_type": "code",
   "execution_count": 3,
   "id": "3195debf-d31b-4b65-924f-6e0aad6f98d9",
   "metadata": {},
   "outputs": [],
   "source": [
    "from torch.utils.data import DataLoader\n",
    "train_ds = GameDS(\"sequences\", train=True)\n",
    "train_dataloader = DataLoader(train_ds, batch_size=24, shuffle=True, prefetch_factor=4, num_workers=4)\n",
    "val_ds = GameDS(\"sequences\", train=False)\n",
    "val_dataloader = DataLoader(val_ds, batch_size=24, shuffle=True, prefetch_factor=2, num_workers=2)"
   ]
  },
  {
   "cell_type": "code",
   "execution_count": 4,
   "id": "4cda2a88-90f3-43a9-bdc8-eebd16985e91",
   "metadata": {},
   "outputs": [],
   "source": [
    "model = MaskedVideoTransformer()\n",
    "model.to(device);"
   ]
  },
  {
   "cell_type": "code",
   "execution_count": 5,
   "id": "4d31e611-7e1f-4fb7-9ac3-3b6eee230972",
   "metadata": {},
   "outputs": [],
   "source": [
    "current_time = datetime.now().strftime('%Y-%m-%d_%H-%M-%S')\n",
    "experiment_name = f'runs/experiment_10_{current_time}'\n",
    "writer = SummaryWriter(experiment_name)"
   ]
  },
  {
   "cell_type": "code",
   "execution_count": 6,
   "id": "706bde19-bcb3-4b11-ba72-748dce0f91a8",
   "metadata": {},
   "outputs": [],
   "source": [
    "import matplotlib.pyplot as plt"
   ]
  },
  {
   "cell_type": "code",
   "execution_count": null,
   "id": "5d1d9a78-4cbb-4798-9cb9-0e4e18b9625c",
   "metadata": {},
   "outputs": [],
   "source": [
    "criterion = torch.nn.MSELoss()\n",
    "optim = torch.optim.Adam(params=model.parameters())\n",
    "\n",
    "for step, (X, _) in enumerate(train_dataloader):\n",
    "    X = X / 255\n",
    "    X = X.to(device)\n",
    "    \n",
    "    \n",
    "    X_pred, (X_masked, ) = model(X)\n",
    "    \n",
    "    loss = criterion(X_pred, X)\n",
    "\n",
    "    loss.backward()\n",
    "    if step%20 == 1:\n",
    "        optim.step()\n",
    "        optim.zero_grad()\n",
    "    \n",
    "    writer.add_scalar('Training loss', loss.item(), step)\n",
    "\n",
    "    if step%100 == 1:\n",
    "        image_tensor = plotframes_tensorboard(X_masked, \"Train: Mask\")\n",
    "        writer.add_image('Train: Mask', image_tensor, step)\n",
    "        \n",
    "        image_tensor = plotframes_tensorboard(X_pred, \"Train: Prediction\")\n",
    "        writer.add_image('Train: Prediction', image_tensor, step)\n",
    "    \n",
    "        image_tensor = plotframes_tensorboard(X, \"Train: Original\")\n",
    "        writer.add_image('Train: Original', image_tensor, step)\n",
    "    \n",
    "    del X_pred\n",
    "    del X_masked\n",
    "    "
   ]
  }
 ],
 "metadata": {
  "kernelspec": {
   "display_name": "Python 3 (ipykernel)",
   "language": "python",
   "name": "python3"
  },
  "language_info": {
   "codemirror_mode": {
    "name": "ipython",
    "version": 3
   },
   "file_extension": ".py",
   "mimetype": "text/x-python",
   "name": "python",
   "nbconvert_exporter": "python",
   "pygments_lexer": "ipython3",
   "version": "3.11.4"
  }
 },
 "nbformat": 4,
 "nbformat_minor": 5
}
